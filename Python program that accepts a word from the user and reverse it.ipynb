{
 "cells": [
  {
   "cell_type": "code",
   "execution_count": 1,
   "id": "d386392a",
   "metadata": {},
   "outputs": [
    {
     "name": "stdout",
     "output_type": "stream",
     "text": [
      "Enter a word : Athish\n",
      "Reversed form :  hsihtA\n"
     ]
    }
   ],
   "source": [
    "a=input('Enter a word : ')\n",
    "b=a[-1::-1]\n",
    "print('Reversed form : ',b)"
   ]
  },
  {
   "cell_type": "code",
   "execution_count": null,
   "id": "a0a9bbd6",
   "metadata": {},
   "outputs": [],
   "source": []
  }
 ],
 "metadata": {
  "kernelspec": {
   "display_name": "Python 3 (ipykernel)",
   "language": "python",
   "name": "python3"
  },
  "language_info": {
   "codemirror_mode": {
    "name": "ipython",
    "version": 3
   },
   "file_extension": ".py",
   "mimetype": "text/x-python",
   "name": "python",
   "nbconvert_exporter": "python",
   "pygments_lexer": "ipython3",
   "version": "3.10.1"
  }
 },
 "nbformat": 4,
 "nbformat_minor": 5
}
