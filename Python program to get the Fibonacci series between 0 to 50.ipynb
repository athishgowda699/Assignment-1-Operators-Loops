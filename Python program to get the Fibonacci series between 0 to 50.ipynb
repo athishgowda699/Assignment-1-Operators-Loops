{
 "cells": [
  {
   "cell_type": "code",
   "execution_count": 10,
   "id": "6efb095e",
   "metadata": {},
   "outputs": [
    {
     "name": "stdout",
     "output_type": "stream",
     "text": [
      "Enter number of terms : 12\n",
      "0 1 1 2 3 5 8 13 21 34 "
     ]
    }
   ],
   "source": [
    "n=int(input('Enter number of terms : '))\n",
    "a=1\n",
    "b=0\n",
    "sum=0\n",
    "if n<=0:\n",
    "    print('Enter a number more than zero')\n",
    "else:\n",
    "    for i in range(n):\n",
    "        if sum>=50:\n",
    "            break\n",
    "        else:\n",
    "            print(sum,end=' ')\n",
    "            b=a\n",
    "            a=sum\n",
    "            sum=a+b"
   ]
  },
  {
   "cell_type": "code",
   "execution_count": 9,
   "id": "eb13a913",
   "metadata": {},
   "outputs": [
    {
     "name": "stdout",
     "output_type": "stream",
     "text": [
      "Enter the value, upto : 50\n",
      "0 1 1 2 3 5 8 13 21 34 "
     ]
    }
   ],
   "source": [
    "n=int(input('Enter the value, upto : '))\n",
    "\n",
    "z=0\n",
    "b=1\n",
    "a=0\n",
    "\n",
    "if n<=0:\n",
    "    print('Enter a number greater than zero')\n",
    "else:\n",
    "    while z<=n:   \n",
    "        print(z,end=' ')\n",
    "        a=b\n",
    "        b=z\n",
    "        z=a+b"
   ]
  },
  {
   "cell_type": "code",
   "execution_count": null,
   "id": "7f071a65",
   "metadata": {},
   "outputs": [],
   "source": []
  }
 ],
 "metadata": {
  "kernelspec": {
   "display_name": "Python 3 (ipykernel)",
   "language": "python",
   "name": "python3"
  },
  "language_info": {
   "codemirror_mode": {
    "name": "ipython",
    "version": 3
   },
   "file_extension": ".py",
   "mimetype": "text/x-python",
   "name": "python",
   "nbconvert_exporter": "python",
   "pygments_lexer": "ipython3",
   "version": "3.10.1"
  }
 },
 "nbformat": 4,
 "nbformat_minor": 5
}
